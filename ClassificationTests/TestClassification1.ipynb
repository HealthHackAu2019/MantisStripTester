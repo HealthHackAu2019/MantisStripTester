{
 "cells": [
  {
   "cell_type": "markdown",
   "metadata": {},
   "source": [
    "# First attempt at detection from images\n",
    "We have a fake data set based on a postive sample and a negative sample.\n",
    "We can augment these images.\n",
    "We want to see if the network can detect if the classification is positive or negative.\n",
    "\n",
    "This only looks at the singla line, but it looks promising."
   ]
  },
  {
   "cell_type": "code",
   "execution_count": 88,
   "metadata": {},
   "outputs": [],
   "source": [
    "import skimage as sk\n",
    "\n",
    "# Load training data\n",
    "image_control_neg = sk.io.imread('TestImages1/img002.png')\n",
    "image_signal_neg = sk.io.imread('TestImages1/img003.png')\n",
    "image_control_pos = sk.io.imread('TestImages1/img001.png')\n",
    "image_signal_pos = sk.io.imread('TestImages1/img004.png')\n"
   ]
  },
  {
   "cell_type": "code",
   "execution_count": 89,
   "metadata": {},
   "outputs": [],
   "source": [
    "import random\n",
    "from scipy import ndarray\n",
    "from skimage import transform\n",
    "from skimage import util\n",
    "\n",
    "import random\n",
    "import os\n",
    "\n",
    "from skimage import data, io\n",
    "from matplotlib import pyplot as plt\n",
    "\n",
    "def random_rotation(image_array: ndarray):\n",
    "    # pick a random degree of rotation between 25% on the left and 25% on the right\n",
    "    random_degree = random.uniform(-25, 25)\n",
    "    return sk.transform.rotate(image_array, random_degree)\n",
    "\n",
    "def random_noise(image_array: ndarray):\n",
    "    # add random noise to the image\n",
    "    return sk.util.random_noise(image_array)\n",
    "\n",
    "def horizontal_flip(image_array: ndarray):\n",
    "    # horizontal flip doesn't need skimage, it's easy as flipping the image array of pixels !\n",
    "    return image_array[:, ::-1]\n",
    "\n",
    "\n",
    "# the number of file to generate\n",
    "num_files_desired = 200\n",
    "\n",
    "# dictionary of the transformations functions we defined earlier\n",
    "available_transformations = {\n",
    "    'rotate': random_rotation,\n",
    "    'noise': random_noise,\n",
    "    'horizontal_flip': horizontal_flip\n",
    "}\n",
    "\n",
    "def apply_transformations(image_to_transform):\n",
    "    \n",
    "    all_images = ndarray(shape=(num_files_desired,\n",
    "                                round(image_to_transform.shape[0]/4.0),\n",
    "                                round(image_to_transform.shape[1]/4.0),\n",
    "                                image_to_transform.shape[2]))\n",
    "    \n",
    "    for ii in range(num_files_desired):\n",
    "        key = random.choice(list(available_transformations))\n",
    "        transformed_image = available_transformations[key](image_to_transform)\n",
    "        \n",
    "        transformed_image = sk.transform.rescale(transformed_image, 1.0 / 4.0, anti_aliasing=False, multichannel=True)\n",
    "        \n",
    "        all_images[ii] = transformed_image\n",
    "        \n",
    "    return all_images\n",
    "        \n",
    "timages_control_neg = apply_transformations(image_control_neg)\n",
    "timages_control_pos = apply_transformations(image_control_pos)\n",
    "timages_signal_neg = apply_transformations(image_signal_neg)\n",
    "timages_signal_pos = apply_transformations(image_signal_pos)\n"
   ]
  },
  {
   "cell_type": "code",
   "execution_count": 162,
   "metadata": {},
   "outputs": [],
   "source": [
    "import numpy as np\n",
    "\n",
    "# Split the data into training and validation\n",
    "labels = np.concatenate([np.zeros((timages_control_neg.shape[0], 1)), np.ones((timages_control_neg.shape[0], 1))])\n",
    "#labels1 = np.concatenate([np.ones((timages_control_neg.shape[0], 1)), np.zeros((timages_control_neg.shape[0], 1))])\n",
    "#labels = np.concatenate([labels0, labels1], axis=1)   we need indices not HOT\n",
    "controls = np.concatenate([timages_control_neg, timages_control_pos])\n",
    "signals = np.concatenate([timages_signal_neg, timages_signal_pos])\n",
    "\n",
    "# Normalize pixel values to be between 0 and 1\n",
    "controls, signals = controls / 255.0, signals / 255.0\n",
    "\n",
    "def unison_shuffled_copies(l, c, s):\n",
    "    ax = 0\n",
    "    assert l.shape[ax] == c.shape[ax]\n",
    "    assert l.shape[ax] == s.shape[ax]\n",
    "    p = np.random.permutation(l.shape[ax])\n",
    "    return l[p, :], c[p, :], s[p, :]\n",
    "\n",
    "labels, controls, signals = unison_shuffled_copies(labels, controls, signals)\n",
    "\n",
    "num_train = 180\n",
    "num_test = 20\n",
    "\n",
    "train_labels = labels[:num_train, :]\n",
    "train_controls = controls[:num_train, :]\n",
    "train_signals = signals[:num_train, :]\n",
    "\n",
    "test_labels = labels[:num_train, :]\n",
    "test_controls = controls[:num_train, :]\n",
    "test_signals = signals[:num_train, :]"
   ]
  },
  {
   "cell_type": "code",
   "execution_count": 163,
   "metadata": {},
   "outputs": [
    {
     "name": "stdout",
     "output_type": "stream",
     "text": [
      "Model: \"sequential_12\"\n",
      "_________________________________________________________________\n",
      "Layer (type)                 Output Shape              Param #   \n",
      "=================================================================\n",
      "conv2d_36 (Conv2D)           (None, 23, 23, 32)        1184      \n",
      "_________________________________________________________________\n",
      "max_pooling2d_24 (MaxPooling (None, 11, 11, 32)        0         \n",
      "_________________________________________________________________\n",
      "conv2d_37 (Conv2D)           (None, 9, 9, 64)          18496     \n",
      "_________________________________________________________________\n",
      "max_pooling2d_25 (MaxPooling (None, 4, 4, 64)          0         \n",
      "_________________________________________________________________\n",
      "conv2d_38 (Conv2D)           (None, 2, 2, 64)          36928     \n",
      "_________________________________________________________________\n",
      "flatten_12 (Flatten)         (None, 256)               0         \n",
      "_________________________________________________________________\n",
      "dense_24 (Dense)             (None, 64)                16448     \n",
      "_________________________________________________________________\n",
      "dense_25 (Dense)             (None, 2)                 130       \n",
      "=================================================================\n",
      "Total params: 73,186\n",
      "Trainable params: 73,186\n",
      "Non-trainable params: 0\n",
      "_________________________________________________________________\n"
     ]
    }
   ],
   "source": [
    "import tensorflow as tf\n",
    "from tensorflow import keras\n",
    "from tensorflow.keras import models\n",
    "from tensorflow.keras import layers\n",
    "\n",
    "model = models.Sequential()\n",
    "model.add(layers.Conv2D(32, (3, 3), activation='relu', input_shape=train_controls.shape[1:]))\n",
    "model.add(layers.MaxPooling2D((2, 2)))\n",
    "model.add(layers.Conv2D(64, (3, 3), activation='relu'))\n",
    "model.add(layers.MaxPooling2D((2, 2)))\n",
    "model.add(layers.Conv2D(64, (3, 3), activation='relu'))\n",
    "model.add(layers.Flatten())\n",
    "model.add(layers.Dense(64, activation='relu'))\n",
    "model.add(layers.Dense(2, activation='softmax'))\n",
    "model.summary()"
   ]
  },
  {
   "cell_type": "code",
   "execution_count": 164,
   "metadata": {},
   "outputs": [
    {
     "name": "stdout",
     "output_type": "stream",
     "text": [
      "Train on 180 samples, validate on 180 samples\n",
      "Epoch 1/50\n",
      "180/180 [==============================] - 0s 3ms/sample - loss: 0.6934 - acc: 0.4611 - val_loss: 0.6928 - val_acc: 0.5278\n",
      "Epoch 2/50\n",
      "180/180 [==============================] - 0s 255us/sample - loss: 0.6927 - acc: 0.5278 - val_loss: 0.6919 - val_acc: 0.5278\n",
      "Epoch 3/50\n",
      "180/180 [==============================] - 0s 260us/sample - loss: 0.6919 - acc: 0.5278 - val_loss: 0.6916 - val_acc: 0.5278\n",
      "Epoch 4/50\n",
      "180/180 [==============================] - 0s 266us/sample - loss: 0.6922 - acc: 0.5278 - val_loss: 0.6917 - val_acc: 0.5278\n",
      "Epoch 5/50\n",
      "180/180 [==============================] - 0s 255us/sample - loss: 0.6913 - acc: 0.5278 - val_loss: 0.6912 - val_acc: 0.5278\n",
      "Epoch 6/50\n",
      "180/180 [==============================] - 0s 244us/sample - loss: 0.6917 - acc: 0.5278 - val_loss: 0.6910 - val_acc: 0.5278\n",
      "Epoch 7/50\n",
      "180/180 [==============================] - 0s 266us/sample - loss: 0.6907 - acc: 0.5278 - val_loss: 0.6910 - val_acc: 0.5278\n",
      "Epoch 8/50\n",
      "180/180 [==============================] - 0s 255us/sample - loss: 0.6919 - acc: 0.5278 - val_loss: 0.6914 - val_acc: 0.5278\n",
      "Epoch 9/50\n",
      "180/180 [==============================] - 0s 255us/sample - loss: 0.6912 - acc: 0.5278 - val_loss: 0.6906 - val_acc: 0.5278\n",
      "Epoch 10/50\n",
      "180/180 [==============================] - 0s 244us/sample - loss: 0.6908 - acc: 0.5278 - val_loss: 0.6904 - val_acc: 0.5278\n",
      "Epoch 11/50\n",
      "180/180 [==============================] - 0s 266us/sample - loss: 0.6915 - acc: 0.5278 - val_loss: 0.6907 - val_acc: 0.5278\n",
      "Epoch 12/50\n",
      "180/180 [==============================] - 0s 260us/sample - loss: 0.6909 - acc: 0.5278 - val_loss: 0.6903 - val_acc: 0.5278\n",
      "Epoch 13/50\n",
      "180/180 [==============================] - 0s 249us/sample - loss: 0.6905 - acc: 0.5278 - val_loss: 0.6897 - val_acc: 0.5278\n",
      "Epoch 14/50\n",
      "180/180 [==============================] - 0s 249us/sample - loss: 0.6901 - acc: 0.5278 - val_loss: 0.6890 - val_acc: 0.5278\n",
      "Epoch 15/50\n",
      "180/180 [==============================] - 0s 244us/sample - loss: 0.6891 - acc: 0.5278 - val_loss: 0.6881 - val_acc: 0.5278\n",
      "Epoch 16/50\n",
      "180/180 [==============================] - 0s 238us/sample - loss: 0.6880 - acc: 0.5278 - val_loss: 0.6866 - val_acc: 0.5278\n",
      "Epoch 17/50\n",
      "180/180 [==============================] - 0s 249us/sample - loss: 0.6865 - acc: 0.5278 - val_loss: 0.6840 - val_acc: 0.5278\n",
      "Epoch 18/50\n",
      "180/180 [==============================] - 0s 255us/sample - loss: 0.6835 - acc: 0.5278 - val_loss: 0.6797 - val_acc: 0.5278\n",
      "Epoch 19/50\n",
      "180/180 [==============================] - 0s 244us/sample - loss: 0.6783 - acc: 0.5278 - val_loss: 0.6727 - val_acc: 0.5278\n",
      "Epoch 20/50\n",
      "180/180 [==============================] - 0s 238us/sample - loss: 0.6754 - acc: 0.5278 - val_loss: 0.6660 - val_acc: 0.5278\n",
      "Epoch 21/50\n",
      "180/180 [==============================] - 0s 238us/sample - loss: 0.6698 - acc: 0.6778 - val_loss: 0.6606 - val_acc: 0.5278\n",
      "Epoch 22/50\n",
      "180/180 [==============================] - 0s 238us/sample - loss: 0.6452 - acc: 0.7778 - val_loss: 0.6264 - val_acc: 0.5278\n",
      "Epoch 23/50\n",
      "180/180 [==============================] - 0s 244us/sample - loss: 0.6295 - acc: 0.6722 - val_loss: 0.5875 - val_acc: 0.5278\n",
      "Epoch 24/50\n",
      "180/180 [==============================] - 0s 238us/sample - loss: 0.6175 - acc: 0.5667 - val_loss: 0.5571 - val_acc: 0.5278\n",
      "Epoch 25/50\n",
      "180/180 [==============================] - 0s 238us/sample - loss: 0.5506 - acc: 0.7500 - val_loss: 0.4865 - val_acc: 1.0000\n",
      "Epoch 26/50\n",
      "180/180 [==============================] - 0s 238us/sample - loss: 0.4786 - acc: 0.9000 - val_loss: 0.4782 - val_acc: 1.0000\n",
      "Epoch 27/50\n",
      "180/180 [==============================] - 0s 244us/sample - loss: 0.5667 - acc: 0.7111 - val_loss: 0.3664 - val_acc: 0.8611\n",
      "Epoch 28/50\n",
      "180/180 [==============================] - 0s 244us/sample - loss: 0.4656 - acc: 0.8278 - val_loss: 0.3852 - val_acc: 0.8556\n",
      "Epoch 29/50\n",
      "180/180 [==============================] - 0s 233us/sample - loss: 0.4000 - acc: 0.8944 - val_loss: 0.3614 - val_acc: 0.8611\n",
      "Epoch 30/50\n",
      "180/180 [==============================] - 0s 233us/sample - loss: 0.3436 - acc: 0.9000 - val_loss: 0.2810 - val_acc: 1.0000\n",
      "Epoch 31/50\n",
      "180/180 [==============================] - 0s 233us/sample - loss: 0.2462 - acc: 1.0000 - val_loss: 0.1792 - val_acc: 1.0000\n",
      "Epoch 32/50\n",
      "180/180 [==============================] - 0s 238us/sample - loss: 0.1779 - acc: 1.0000 - val_loss: 0.1339 - val_acc: 1.0000\n",
      "Epoch 33/50\n",
      "180/180 [==============================] - 0s 244us/sample - loss: 0.1224 - acc: 1.0000 - val_loss: 0.0883 - val_acc: 1.0000\n",
      "Epoch 34/50\n",
      "180/180 [==============================] - 0s 260us/sample - loss: 0.0790 - acc: 1.0000 - val_loss: 0.0570 - val_acc: 1.0000\n",
      "Epoch 35/50\n",
      "180/180 [==============================] - 0s 238us/sample - loss: 0.0519 - acc: 1.0000 - val_loss: 0.0421 - val_acc: 1.0000\n",
      "Epoch 36/50\n",
      "180/180 [==============================] - 0s 238us/sample - loss: 0.0343 - acc: 1.0000 - val_loss: 0.0264 - val_acc: 1.0000\n",
      "Epoch 37/50\n",
      "180/180 [==============================] - 0s 238us/sample - loss: 0.0234 - acc: 1.0000 - val_loss: 0.0201 - val_acc: 1.0000\n",
      "Epoch 38/50\n",
      "180/180 [==============================] - 0s 244us/sample - loss: 0.0176 - acc: 1.0000 - val_loss: 0.0138 - val_acc: 1.0000\n",
      "Epoch 39/50\n",
      "180/180 [==============================] - 0s 244us/sample - loss: 0.0132 - acc: 1.0000 - val_loss: 0.0111 - val_acc: 1.0000\n",
      "Epoch 40/50\n",
      "180/180 [==============================] - 0s 238us/sample - loss: 0.0103 - acc: 1.0000 - val_loss: 0.0090 - val_acc: 1.0000\n",
      "Epoch 41/50\n",
      "180/180 [==============================] - 0s 238us/sample - loss: 0.0083 - acc: 1.0000 - val_loss: 0.0070 - val_acc: 1.0000\n",
      "Epoch 42/50\n",
      "180/180 [==============================] - 0s 244us/sample - loss: 0.0067 - acc: 1.0000 - val_loss: 0.0059 - val_acc: 1.0000\n",
      "Epoch 43/50\n",
      "180/180 [==============================] - 0s 249us/sample - loss: 0.0057 - acc: 1.0000 - val_loss: 0.0051 - val_acc: 1.0000\n",
      "Epoch 44/50\n",
      "180/180 [==============================] - 0s 244us/sample - loss: 0.0049 - acc: 1.0000 - val_loss: 0.0045 - val_acc: 1.0000\n",
      "Epoch 45/50\n",
      "180/180 [==============================] - 0s 244us/sample - loss: 0.0044 - acc: 1.0000 - val_loss: 0.0040 - val_acc: 1.0000\n",
      "Epoch 46/50\n",
      "180/180 [==============================] - 0s 249us/sample - loss: 0.0039 - acc: 1.0000 - val_loss: 0.0036 - val_acc: 1.0000\n",
      "Epoch 47/50\n",
      "180/180 [==============================] - 0s 244us/sample - loss: 0.0036 - acc: 1.0000 - val_loss: 0.0033 - val_acc: 1.0000\n",
      "Epoch 48/50\n",
      "180/180 [==============================] - 0s 233us/sample - loss: 0.0032 - acc: 1.0000 - val_loss: 0.0030 - val_acc: 1.0000\n",
      "Epoch 49/50\n",
      "180/180 [==============================] - 0s 244us/sample - loss: 0.0029 - acc: 1.0000 - val_loss: 0.0028 - val_acc: 1.0000\n",
      "Epoch 50/50\n",
      "180/180 [==============================] - 0s 250us/sample - loss: 0.0027 - acc: 1.0000 - val_loss: 0.0025 - val_acc: 1.0000\n"
     ]
    }
   ],
   "source": [
    "model.compile(optimizer='adam',\n",
    "              loss='sparse_categorical_crossentropy',\n",
    "              metrics=['accuracy'])\n",
    "\n",
    "accuracy = model.fit(train_signals, train_labels, epochs=50,\n",
    "              validation_data=(test_signals, test_labels))"
   ]
  },
  {
   "cell_type": "code",
   "execution_count": 165,
   "metadata": {},
   "outputs": [
    {
     "data": {
      "text/plain": [
       "[<matplotlib.lines.Line2D at 0x292aed56388>]"
      ]
     },
     "execution_count": 165,
     "metadata": {},
     "output_type": "execute_result"
    },
    {
     "data": {
      "image/png": "[encoded data removed]",
      "text/plain": [
       "<Figure size 432x288 with 1 Axes>"
      ]
     },
     "metadata": {
      "needs_background": "light"
     },
     "output_type": "display_data"
    }
   ],
   "source": [
    "from matplotlib import pyplot as plt\n",
    "\n",
    "plt.plot(accuracy.history['loss'])\n",
    "plt.plot(accuracy.history['val_loss'])"
   ]
  },
  {
   "cell_type": "markdown",
   "metadata": {},
   "source": [
    "# Test a prediction"
   ]
  },
  {
   "cell_type": "code",
   "execution_count": 168,
   "metadata": {},
   "outputs": [
    {
     "data": {
      "image/png": "[encoded data removed]",
      "text/plain": [
       "<Figure size 432x288 with 1 Axes>"
      ]
     },
     "metadata": {
      "needs_background": "light"
     },
     "output_type": "display_data"
    },
    {
     "name": "stdout",
     "output_type": "stream",
     "text": [
      "[[0.00234825 0.99765176]]\n"
     ]
    },
    {
     "data": {
      "image/png": "[encoded data removed]",
      "text/plain": [
       "<Figure size 432x288 with 1 Axes>"
      ]
     },
     "metadata": {
      "needs_background": "light"
     },
     "output_type": "display_data"
    },
    {
     "name": "stdout",
     "output_type": "stream",
     "text": [
      "[[0.9983346  0.00166547]]\n"
     ]
    },
    {
     "data": {
      "image/png": "[encoded data removed]",
      "text/plain": [
       "<Figure size 432x288 with 1 Axes>"
      ]
     },
     "metadata": {
      "needs_background": "light"
     },
     "output_type": "display_data"
    },
    {
     "name": "stdout",
     "output_type": "stream",
     "text": [
      "[[0.00596829 0.9940317 ]]\n"
     ]
    },
    {
     "data": {
      "image/png": "[encoded data removed]",
      "text/plain": [
       "<Figure size 432x288 with 1 Axes>"
      ]
     },
     "metadata": {
      "needs_background": "light"
     },
     "output_type": "display_data"
    },
    {
     "name": "stdout",
     "output_type": "stream",
     "text": [
      "[[0.99831426 0.0016858 ]]\n"
     ]
    }
   ],
   "source": [
    "def check_image(test_image, scale=True):\n",
    "    \n",
    "    #io.imshow(test_image)\n",
    "    #plt.show()\n",
    "    \n",
    "    if scale:\n",
    "        transformed_image = sk.transform.rescale(test_image, 1.0 / 4.0, anti_aliasing=False, multichannel=True)\n",
    "        transformed_image = transformed_image / 255.0\n",
    "    else:\n",
    "        transformed_image = sk.transform.rescale(test_image, 1.0, anti_aliasing=False, multichannel=True)\n",
    "        \n",
    "    plt.imshow(transformed_image*255, extent=[0, 1, 0, 1])\n",
    "    plt.show()\n",
    "    print(model.predict(np.array([transformed_image])))\n",
    "    \n",
    "check_image(image_signal_pos)\n",
    "check_image(train_signals[1, :], scale=False)\n",
    "check_image(train_signals[50, :], scale=False)\n",
    "check_image(image_signal_neg)"
   ]
  },
  {
   "cell_type": "code",
   "execution_count": null,
   "metadata": {},
   "outputs": [],
   "source": []
  }
 ],
 "metadata": {
  "kernelspec": {
   "display_name": "Python 3",
   "language": "python",
   "name": "python3"
  },
  "language_info": {
   "codemirror_mode": {
    "name": "ipython",
    "version": 3
   },
   "file_extension": ".py",
   "mimetype": "text/x-python",
   "name": "python",
   "nbconvert_exporter": "python",
   "pygments_lexer": "ipython3",
   "version": "3.7.4"
  }
 },
 "nbformat": 4,
 "nbformat_minor": 2
}
