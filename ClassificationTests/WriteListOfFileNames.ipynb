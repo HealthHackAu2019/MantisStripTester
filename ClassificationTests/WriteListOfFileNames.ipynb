{
 "cells": [
  {
   "cell_type": "code",
   "execution_count": 4,
   "metadata": {},
   "outputs": [],
   "source": [
    "import os\n",
    "\n",
    "# Load imates into memory\n",
    "\n",
    "path_tp = 'Images\\True_Positive'\n",
    "\n",
    "# loop on all files of the folder and build a list of files paths\n",
    "images_tp_fn = [os.path.join(path_tp, f) for f in os.listdir(path_tp) if os.path.isfile(os.path.join(path_tp, f))]\n",
    "\n",
    "import csv\n",
    "with open('filenames.csv', 'w', newline='') as csvfile:\n",
    "    spamwriter = csv.writer(csvfile, delimiter=' ',\n",
    "                            quotechar='|', quoting=csv.QUOTE_MINIMAL)\n",
    "    for r in images_tp_fn:\n",
    "        spamwriter.writerow(r)"
   ]
  },
  {
   "cell_type": "code",
   "execution_count": null,
   "metadata": {},
   "outputs": [],
   "source": []
  }
 ],
 "metadata": {
  "kernelspec": {
   "display_name": "Python 3",
   "language": "python",
   "name": "python3"
  },
  "language_info": {
   "codemirror_mode": {
    "name": "ipython",
    "version": 3
   },
   "file_extension": ".py",
   "mimetype": "text/x-python",
   "name": "python",
   "nbconvert_exporter": "python",
   "pygments_lexer": "ipython3",
   "version": "3.7.4"
  }
 },
 "nbformat": 4,
 "nbformat_minor": 2
}
